{
  "nbformat": 4,
  "nbformat_minor": 0,
  "metadata": {
    "colab": {
      "name": "NLP_TASK_DAY5.ipynb",
      "provenance": [],
      "collapsed_sections": []
    },
    "kernelspec": {
      "name": "python3",
      "display_name": "Python 3"
    }
  },
  "cells": [
    {
      "cell_type": "markdown",
      "metadata": {
        "id": "78IZO3x7kdBb"
      },
      "source": [
        "**IMPORTING SPACY**"
      ]
    },
    {
      "cell_type": "code",
      "metadata": {
        "id": "NTUfzUfHkk1C"
      },
      "source": [
        "import spacy\n",
        "sp = spacy.load('en_core_web_sm')"
      ],
      "execution_count": 1,
      "outputs": []
    },
    {
      "cell_type": "markdown",
      "metadata": {
        "id": "G1iEK8eplTu5"
      },
      "source": [
        "**Example 1**"
      ]
    },
    {
      "cell_type": "code",
      "metadata": {
        "id": "USn7g7kZlMtE",
        "outputId": "59b53c69-8d92-4600-f6b3-f6385550613c",
        "colab": {
          "base_uri": "https://localhost:8080/",
          "height": 87
        }
      },
      "source": [
        "example1 = \"If the polls are anything to go by, Trump is trailing behind his Democratic rival Joe Biden – at times by double-digit numbers with less than a month to go before the elections.\"\n",
        "doc = sp(example1)\n",
        "for ent in doc.ents:\n",
        "    print(ent.text,ent.label_)"
      ],
      "execution_count": 2,
      "outputs": [
        {
          "output_type": "stream",
          "text": [
            "Trump PERSON\n",
            "Democratic NORP\n",
            "Joe Biden PERSON\n",
            "less than a month DATE\n"
          ],
          "name": "stdout"
        }
      ]
    },
    {
      "cell_type": "markdown",
      "metadata": {
        "id": "-ENGtc_tmM8-"
      },
      "source": [
        "**Example 2**"
      ]
    },
    {
      "cell_type": "code",
      "metadata": {
        "id": "L927QiSamO2i",
        "outputId": "5fbe7ac1-64df-42a5-907d-8e127bb23db0",
        "colab": {
          "base_uri": "https://localhost:8080/",
          "height": 34
        }
      },
      "source": [
        "example2 = \"Elon Reeve Musk FRS is a business magnate, industrial designer, engineer, and philanthropist is something I really found intriguing!\"\n",
        "doc = sp(example2)\n",
        "for ent in doc.ents:\n",
        "    print(ent.text,ent.label_)"
      ],
      "execution_count": 6,
      "outputs": [
        {
          "output_type": "stream",
          "text": [
            "Elon Reeve Musk PERSON\n"
          ],
          "name": "stdout"
        }
      ]
    },
    {
      "cell_type": "markdown",
      "metadata": {
        "id": "H3N5eKMAlz3L"
      },
      "source": [
        "**Example 3**"
      ]
    },
    {
      "cell_type": "code",
      "metadata": {
        "id": "VfFQeMmhl1IT",
        "outputId": "621d00a9-c54c-457f-bf1f-58ccfd897596",
        "colab": {
          "base_uri": "https://localhost:8080/",
          "height": 105
        }
      },
      "source": [
        "example3 = \"The matriarchal societies are found in various different parts of the world. In India the elements of matriarchal societies are found in north east states (Assam and Meghalaya) and in some part of Kerala.\"\n",
        "doc = sp(example3)\n",
        "for ent in doc.ents:\n",
        "    print(ent.text,ent.label_)"
      ],
      "execution_count": 4,
      "outputs": [
        {
          "output_type": "stream",
          "text": [
            "India GPE\n",
            "north east LOC\n",
            "Assam PERSON\n",
            "Meghalaya PERSON\n",
            "Kerala GPE\n"
          ],
          "name": "stdout"
        }
      ]
    },
    {
      "cell_type": "markdown",
      "metadata": {
        "id": "A0REXEcJmz-y"
      },
      "source": [
        "**ORG, PERSON, GPE, CARDINAL, LOC, DATE, TIME, QUANTITY, PRODUCT, WORK_OF_ART, FAC**"
      ]
    },
    {
      "cell_type": "markdown",
      "metadata": {
        "id": "m0RwK4tum67i"
      },
      "source": [
        "**Querying**"
      ]
    },
    {
      "cell_type": "code",
      "metadata": {
        "id": "Ov2C2Rxam4Wz"
      },
      "source": [
        "locs = [(\"Times Square\",\"IN\",\"New York\"),(\"DDB Neendham\",\"IN\",\"New York\"),(\"Qwerty\",\"TNS\",\"Atlanta\"),(\"Civil\",\"TNS\",\"Atlanta\"),(\"Nisarga\",\"MH\",\"Maharashtra\")]"
      ],
      "execution_count": 7,
      "outputs": []
    },
    {
      "cell_type": "code",
      "metadata": {
        "id": "Q6xQPpfWnwRb",
        "outputId": "33c08bc5-0b70-43ae-e6d3-e556eebe2bbb",
        "colab": {
          "base_uri": "https://localhost:8080/",
          "height": 34
        }
      },
      "source": [
        "query = [e1 for (e1,rel,e2) in locs if e2==\"New York\"]\n",
        "print(query)\n"
      ],
      "execution_count": 8,
      "outputs": [
        {
          "output_type": "stream",
          "text": [
            "['Times Square', 'DDB Neendham']\n"
          ],
          "name": "stdout"
        }
      ]
    },
    {
      "cell_type": "code",
      "metadata": {
        "id": "FiOV4hbfn6Kr",
        "outputId": "9264b40c-eff7-447a-9471-98dbf23c133a",
        "colab": {
          "base_uri": "https://localhost:8080/",
          "height": 34
        }
      },
      "source": [
        "query = [e1 for (e1,rel,e2) in locs if e2==\"Atlanta\"]\n",
        "print(query)\n"
      ],
      "execution_count": 9,
      "outputs": [
        {
          "output_type": "stream",
          "text": [
            "['Qwerty', 'Civil']\n"
          ],
          "name": "stdout"
        }
      ]
    },
    {
      "cell_type": "code",
      "metadata": {
        "id": "fOY0wg_en9IH",
        "outputId": "a07af6c2-2198-4ca9-e670-8bbf2e53ee6a",
        "colab": {
          "base_uri": "https://localhost:8080/",
          "height": 34
        }
      },
      "source": [
        "query = [e1 for (e1,rel,e2) in locs if rel==\"MH\"]\n",
        "print(query)\n"
      ],
      "execution_count": 12,
      "outputs": [
        {
          "output_type": "stream",
          "text": [
            "['Nisarga']\n"
          ],
          "name": "stdout"
        }
      ]
    }
  ]
}